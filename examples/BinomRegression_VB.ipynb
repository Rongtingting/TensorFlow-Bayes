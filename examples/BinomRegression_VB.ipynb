{
 "cells": [
  {
   "cell_type": "markdown",
   "metadata": {},
   "source": [
    "# Generalised Linear Model for bionomial distribution"
   ]
  },
  {
   "cell_type": "markdown",
   "metadata": {},
   "source": [
    "This model in prototyped with TensorFlow Probability and inferecne is performed with variational Bayes by stochastic gradient descent. \n",
    "\n",
    "Author: Yuanhua Huang\n",
    "\n",
    "Date: 16/12/2019"
   ]
  },
  {
   "cell_type": "markdown",
   "metadata": {},
   "source": [
    "### The model\n",
    "\n",
    "$$y_i = X_i \\times w$$\n",
    "$$P(a_i|d_i, y_i) = y_i^{(a_i)}(1-y_i)^{(d_i-a_i)}$$"
   ]
  },
  {
   "cell_type": "code",
   "execution_count": 1,
   "metadata": {},
   "outputs": [],
   "source": [
    "import numpy as np\n",
    "import matplotlib.pyplot as plt\n",
    "\n",
    "import tensorflow as tf\n",
    "import tensorflow_probability as tfp\n",
    "from tensorflow_probability import distributions as tfd"
   ]
  },
  {
   "cell_type": "code",
   "execution_count": 2,
   "metadata": {},
   "outputs": [
    {
     "data": {
      "image/png": "[encoded data removed]",
      "text/plain": [
       "<Figure size 432x288 with 1 Axes>"
      ]
     },
     "metadata": {
      "needs_background": "light"
     },
     "output_type": "display_data"
    }
   ],
   "source": [
    "fig = plt.figure()\n",
    "plt.plot([1,4], [1,2])\n",
    "plt.show()"
   ]
  },
  {
   "cell_type": "code",
   "execution_count": 3,
   "metadata": {},
   "outputs": [],
   "source": [
    "class BinomRegression():\n",
    "    \"\"\"\n",
    "    d: number of theta categories\n",
    "    K: number of components\n",
    "    \"\"\"\n",
    "    def __init__(self, d, K, name=None):\n",
    "        self.w_size = tf.Variable(tf.random.uniform([K], 0.3), name='w_size')\n",
    "        self.beta_size = tf.Variable(tf.random.uniform([d, 2], 0.3), name='beta_size')\n",
    "    \n",
    "    @property\n",
    "    def weight(self):\n",
    "        \"\"\"Variational posterior for the weight\"\"\"\n",
    "        return tfd.Dirichlet(tf.math.exp(self.w_size))\n",
    "\n",
    "    @property\n",
    "    def ASR(self):\n",
    "        \"\"\"Variational posterior for the binomial rate\"\"\"\n",
    "        return tfd.Beta(tf.math.exp(self.beta_size[:,0]), \n",
    "                        tf.math.exp(self.beta_size[:,1]))\n",
    "    \n",
    "    @property\n",
    "    def losses(self):\n",
    "        \"\"\"Sum of KL divergences between posteriors and priors\"\"\"\n",
    "        w_prior = tfd.Dirichlet(tf.ones([K]))\n",
    "        theta_prior = tfd.Beta([0.1, 3, 9.9], [9.9, 3, 0.1])\n",
    "        \n",
    "        return (tf.reduce_sum(tfd.kl_divergence(self.weight, w_prior)) +\n",
    "                tf.reduce_sum(tfd.kl_divergence(self.ASR, theta_prior)))\n",
    "    \n",
    "    def logLik(self, A, D, GT, sampling=False):\n",
    "        \"\"\"binomial coefficient needs to be added\"\"\"\n",
    "        sample = lambda x: x.sample() if sampling else x.mean()\n",
    "        _theta = tf.tensordot(tf.tensordot(GT, sample(self.ASR), axes=[[2], [0]]),\n",
    "                              sample(self.weight), axes=[[1], [0]])\n",
    "        \n",
    "        _logLik = A * tf.math.log(_theta) + (D - A) * tf.math.log(1 - _theta)\n",
    "        return _logLik\n",
    "    \n",
    "    def fit(self, A, D, GT, num_steps=100, optimizer=None,\n",
    "            learn_rate=0.05):\n",
    "        \"\"\"Fit the model's parameters\"\"\"\n",
    "        if optimizer is None:\n",
    "            optimizer = tf.optimizers.Adam(learning_rate=learn_rate)\n",
    "            \n",
    "        loss_fn = lambda: (self.losses - tf.reduce_sum(self.logLik(A, D, GT)))\n",
    "        \n",
    "        losses = tfp.math.minimize(loss_fn, \n",
    "                                   num_steps=num_steps, \n",
    "                                   optimizer=optimizer)\n",
    "        return losses"
   ]
  },
  {
   "cell_type": "markdown",
   "metadata": {},
   "source": [
    "### Simulation"
   ]
  },
  {
   "cell_type": "code",
   "execution_count": 4,
   "metadata": {},
   "outputs": [],
   "source": [
    "import numpy as np\n",
    "\n",
    "# Settings\n",
    "np.random.seed(2)\n",
    "\n",
    "K = 4   #number of dimensions\n",
    "N = 200 #number of datapoints to generate\n",
    "\n",
    "# Generate data\n",
    "w_true = np.random.dirichlet([1]*K)\n",
    "GT = np.random.multinomial(1, [1/3, 1/3, 1/3], size=(N, K))\n",
    "theta_true = np.dot(GT, [0.01, 0.5, 0.99])\n",
    "theta_mean = np.dot(theta_true, w_true)\n",
    "D = np.random.randint(2, 25, size=(N, 1))\n",
    "A = np.random.binomial(D, theta_mean)"
   ]
  },
  {
   "cell_type": "code",
   "execution_count": 5,
   "metadata": {},
   "outputs": [],
   "source": [
    "A = tf.convert_to_tensor(A, dtype=tf.float32)\n",
    "D = tf.convert_to_tensor(D, dtype=tf.float32)\n",
    "GT = tf.convert_to_tensor(GT, dtype=tf.float32)"
   ]
  },
  {
   "cell_type": "code",
   "execution_count": 6,
   "metadata": {},
   "outputs": [
    {
     "data": {
      "text/plain": [
       "array([0.29096973, 0.0133462 , 0.4053198 , 0.29036427])"
      ]
     },
     "execution_count": 6,
     "metadata": {},
     "output_type": "execute_result"
    }
   ],
   "source": [
    "w_true"
   ]
  },
  {
   "cell_type": "code",
   "execution_count": 7,
   "metadata": {},
   "outputs": [],
   "source": [
    "model = BinomRegression(3, K)"
   ]
  },
  {
   "cell_type": "code",
   "execution_count": 8,
   "metadata": {},
   "outputs": [
    {
     "data": {
      "text/plain": [
       "<tf.Variable 'w_size:0' shape=(4,) dtype=float32, numpy=array([0.81620485, 0.41840777, 0.5186783 , 0.6159264 ], dtype=float32)>"
      ]
     },
     "execution_count": 8,
     "metadata": {},
     "output_type": "execute_result"
    }
   ],
   "source": [
    "model.w_size"
   ]
  },
  {
   "cell_type": "code",
   "execution_count": null,
   "metadata": {},
   "outputs": [],
   "source": [
    "tf.tensordot(tf.tensordot(GT, model.ASR.mean(), axes=[[2], [0]]),\n",
    "             model.weight.mean(), axes=[[1], [0]]).shape"
   ]
  },
  {
   "cell_type": "code",
   "execution_count": null,
   "metadata": {},
   "outputs": [],
   "source": [
    "losses = model.fit(A, D, GT, num_steps=500)"
   ]
  },
  {
   "cell_type": "code",
   "execution_count": 10,
   "metadata": {},
   "outputs": [
    {
     "data": {
      "text/plain": [
       "TensorShape([500])"
      ]
     },
     "execution_count": 10,
     "metadata": {},
     "output_type": "execute_result"
    }
   ],
   "source": [
    "losses.shape"
   ]
  },
  {
   "cell_type": "code",
   "execution_count": null,
   "metadata": {},
   "outputs": [],
   "source": [
    "fig = plt.figure()\n",
    "plt.plot(losses)\n",
    "plt.ylabel(\"Loss\")\n",
    "plt.xlabel(\"Interations\")\n",
    "plt.show()"
   ]
  },
  {
   "cell_type": "code",
   "execution_count": 12,
   "metadata": {},
   "outputs": [
    {
     "data": {
      "text/plain": [
       "<tf.Tensor: id=3783, shape=(3, 2), dtype=float32, numpy=\n",
       "array([[ 0.17300138, 16.120369  ],\n",
       "       [ 1.851408  ,  1.8353181 ],\n",
       "       [16.90907   ,  0.19729044]], dtype=float32)>"
      ]
     },
     "execution_count": 12,
     "metadata": {},
     "output_type": "execute_result"
    }
   ],
   "source": [
    "tf.exp(model.beta_size)"
   ]
  },
  {
   "cell_type": "code",
   "execution_count": 13,
   "metadata": {},
   "outputs": [
    {
     "data": {
      "text/plain": [
       "<tf.Tensor: id=3790, shape=(4,), dtype=float32, numpy=array([0.29306486, 0.01050822, 0.4054677 , 0.29095918], dtype=float32)>"
      ]
     },
     "execution_count": 13,
     "metadata": {},
     "output_type": "execute_result"
    }
   ],
   "source": [
    "model.weight.mean()"
   ]
  },
  {
   "cell_type": "code",
   "execution_count": 15,
   "metadata": {},
   "outputs": [
    {
     "data": {
      "text/plain": [
       "<tf.Tensor: id=3780, shape=(500,), dtype=float32, numpy=\n",
       "array([406378.94, 400950.16, 395899.38, 391505.9 , 387664.3 , 384210.62,\n",
       "       380984.38, 377855.75, 374741.  , 371587.78, 368383.5 , 365148.9 ,\n",
       "       361915.44, 358710.3 , 355554.88, 352473.75, 349498.25, 346659.12,\n",
       "       343976.1 , 341453.6 , 339085.6 , 336865.3 , 334789.8 , 332857.56,\n",
       "       331065.84, 329411.38, 327893.  , 326512.3 , 325269.56, 324160.47,\n",
       "       323177.75, 322315.12, 321567.62, 320928.4 , 320384.56, 319918.53,\n",
       "       319512.6 , 319149.97, 318815.7 , 318497.3 , 318188.62, 317891.22,\n",
       "       317610.97, 317354.22, 317125.5 , 316927.6 , 316759.62, 316617.06,\n",
       "       316492.75, 316380.6 , 316276.78, 316179.16, 316085.75, 315995.97,\n",
       "       315910.12, 315828.72, 315751.94, 315680.38, 315615.22, 315556.88,\n",
       "       315504.75, 315457.84, 315415.12, 315375.28, 315336.94, 315299.56,\n",
       "       315263.12, 315227.62, 315193.38, 315160.72, 315130.22, 315102.25,\n",
       "       315076.56, 315053.16, 315031.47, 315010.7 , 314990.38, 314970.16,\n",
       "       314949.9 , 314930.  , 314910.9 , 314893.03, 314876.47, 314861.28,\n",
       "       314847.  , 314833.3 , 314819.8 , 314806.4 , 314793.03, 314779.78,\n",
       "       314767.03, 314754.94, 314743.6 , 314732.88, 314722.7 , 314712.8 ,\n",
       "       314703.03, 314693.3 , 314683.72, 314674.4 , 314665.38, 314656.8 ,\n",
       "       314648.44, 314640.62, 314632.94, 314625.4 , 314618.06, 314610.7 ,\n",
       "       314603.62, 314596.75, 314590.06, 314583.56, 314577.4 , 314571.34,\n",
       "       314565.4 , 314559.6 , 314553.88, 314548.22, 314542.88, 314537.62,\n",
       "       314532.5 , 314527.5 , 314522.66, 314517.9 , 314513.28, 314508.75,\n",
       "       314504.28, 314500.  , 314495.8 , 314491.7 , 314487.62, 314483.72,\n",
       "       314479.94, 314476.16, 314472.56, 314468.97, 314465.4 , 314461.97,\n",
       "       314458.72, 314455.44, 314452.28, 314449.16, 314446.2 , 314443.2 ,\n",
       "       314440.25, 314437.4 , 314434.62, 314431.9 , 314429.28, 314426.72,\n",
       "       314424.16, 314421.66, 314419.22, 314416.84, 314414.56, 314412.28,\n",
       "       314410.  , 314407.88, 314405.75, 314403.72, 314401.7 , 314399.72,\n",
       "       314397.72, 314395.78, 314393.88, 314392.1 , 314390.3 , 314388.62,\n",
       "       314386.88, 314385.22, 314383.56, 314381.97, 314380.38, 314378.88,\n",
       "       314377.34, 314375.88, 314374.44, 314373.03, 314371.6 , 314370.28,\n",
       "       314368.94, 314367.6 , 314366.38, 314365.12, 314363.88, 314362.72,\n",
       "       314361.56, 314360.38, 314359.25, 314358.16, 314357.06, 314356.06,\n",
       "       314355.  , 314354.  , 314353.03, 314352.03, 314351.03, 314350.1 ,\n",
       "       314349.22, 314348.28, 314347.44, 314346.56, 314345.72, 314344.97,\n",
       "       314344.12, 314343.28, 314342.5 , 314341.75, 314341.06, 314340.3 ,\n",
       "       314339.66, 314338.84, 314338.25, 314337.5 , 314336.88, 314336.2 ,\n",
       "       314335.53, 314334.9 , 314334.38, 314333.75, 314333.2 , 314332.6 ,\n",
       "       314332.03, 314331.4 , 314330.97, 314330.44, 314329.9 , 314329.38,\n",
       "       314328.88, 314328.4 , 314327.94, 314327.4 , 314326.97, 314326.5 ,\n",
       "       314326.03, 314325.56, 314325.16, 314324.8 , 314324.28, 314323.9 ,\n",
       "       314323.5 , 314323.22, 314322.8 , 314322.44, 314322.06, 314321.7 ,\n",
       "       314321.38, 314320.94, 314320.62, 314320.3 , 314320.  , 314319.66,\n",
       "       314319.3 , 314319.1 , 314318.72, 314318.44, 314318.12, 314317.88,\n",
       "       314317.6 , 314317.25, 314317.  , 314316.72, 314316.5 , 314316.16,\n",
       "       314315.94, 314315.72, 314315.44, 314315.25, 314315.  , 314314.75,\n",
       "       314314.5 , 314314.28, 314314.12, 314313.88, 314313.62, 314313.47,\n",
       "       314313.2 , 314313.03, 314312.84, 314312.62, 314312.47, 314312.28,\n",
       "       314312.12, 314311.88, 314311.7 , 314311.5 , 314311.38, 314311.22,\n",
       "       314311.1 , 314310.88, 314310.7 , 314310.56, 314310.44, 314310.28,\n",
       "       314310.16, 314310.  , 314309.8 , 314309.7 , 314309.56, 314309.4 ,\n",
       "       314309.25, 314309.12, 314308.97, 314308.88, 314308.7 , 314308.62,\n",
       "       314308.5 , 314308.3 , 314308.25, 314308.12, 314308.  , 314307.88,\n",
       "       314307.75, 314307.62, 314307.56, 314307.38, 314307.25, 314307.22,\n",
       "       314307.06, 314307.  , 314306.88, 314306.8 , 314306.72, 314306.62,\n",
       "       314306.56, 314306.47, 314306.38, 314306.3 , 314306.16, 314306.03,\n",
       "       314305.97, 314305.8 , 314305.78, 314305.7 , 314305.6 , 314305.53,\n",
       "       314305.4 , 314305.34, 314305.28, 314305.22, 314305.12, 314305.12,\n",
       "       314305.03, 314304.97, 314304.9 , 314304.8 , 314304.72, 314304.62,\n",
       "       314304.6 , 314304.47, 314304.44, 314304.4 , 314304.3 , 314304.28,\n",
       "       314304.22, 314304.16, 314304.  , 314303.94, 314303.88, 314303.8 ,\n",
       "       314303.75, 314303.7 , 314303.62, 314303.6 , 314303.56, 314303.5 ,\n",
       "       314303.44, 314303.38, 314303.28, 314303.22, 314303.22, 314303.2 ,\n",
       "       314303.06, 314303.  , 314302.94, 314302.9 , 314302.88, 314302.75,\n",
       "       314302.7 , 314302.7 , 314302.6 , 314302.47, 314302.5 , 314302.47,\n",
       "       314302.4 , 314302.3 , 314302.28, 314302.28, 314302.22, 314302.16,\n",
       "       314302.16, 314302.1 , 314302.06, 314301.97, 314301.97, 314301.9 ,\n",
       "       314301.88, 314301.8 , 314301.75, 314301.7 , 314301.66, 314301.62,\n",
       "       314301.62, 314301.56, 314301.5 , 314301.5 , 314301.47, 314301.38,\n",
       "       314301.34, 314301.3 , 314301.28, 314301.25, 314301.2 , 314301.1 ,\n",
       "       314301.1 , 314301.06, 314301.03, 314300.97, 314300.97, 314300.9 ,\n",
       "       314300.84, 314300.88, 314300.78, 314300.75, 314300.7 , 314300.7 ,\n",
       "       314300.6 , 314300.66, 314300.6 , 314300.6 , 314300.5 , 314300.44,\n",
       "       314300.4 , 314300.34, 314300.3 , 314300.3 , 314300.25, 314300.25,\n",
       "       314300.22, 314300.2 , 314300.2 , 314300.1 , 314300.06, 314300.  ,\n",
       "       314299.97, 314299.97, 314299.97, 314299.9 , 314299.84, 314299.78,\n",
       "       314299.78, 314299.75, 314299.72, 314299.75, 314299.66, 314299.66,\n",
       "       314299.6 , 314299.56, 314299.53, 314299.53, 314299.47, 314299.44,\n",
       "       314299.4 , 314299.34, 314299.25, 314299.25, 314299.25, 314299.22,\n",
       "       314299.2 , 314299.2 , 314299.16, 314299.1 , 314299.06, 314299.06,\n",
       "       314299.  , 314298.97, 314298.94, 314298.97, 314298.94, 314298.94,\n",
       "       314298.84, 314298.8 , 314298.78, 314298.78, 314298.72, 314298.72,\n",
       "       314298.62, 314298.66, 314298.62, 314298.6 , 314298.6 , 314298.56,\n",
       "       314298.53, 314298.47, 314298.47, 314298.44, 314298.44, 314298.4 ,\n",
       "       314298.38, 314298.38], dtype=float32)>"
      ]
     },
     "execution_count": 15,
     "metadata": {},
     "output_type": "execute_result"
    }
   ],
   "source": [
    "losses"
   ]
  },
  {
   "cell_type": "code",
   "execution_count": null,
   "metadata": {},
   "outputs": [],
   "source": []
  }
 ],
 "metadata": {
  "kernelspec": {
   "display_name": "TFProb",
   "language": "python",
   "name": "tfprob"
  },
  "language_info": {
   "codemirror_mode": {
    "name": "ipython",
    "version": 3
   },
   "file_extension": ".py",
   "mimetype": "text/x-python",
   "name": "python",
   "nbconvert_exporter": "python",
   "pygments_lexer": "ipython3",
   "version": "3.7.5"
  }
 },
 "nbformat": 4,
 "nbformat_minor": 2
}
